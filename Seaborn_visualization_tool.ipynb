{
 "cells": [
  {
   "cell_type": "markdown",
   "metadata": {},
   "source": [
    "# Seaborn vs raw matplotlib: a user experience\n",
    "\n",
    "1. What is seaborn\n",
    "2. User experience\n",
    "3. Test case: visualization of the esgf1_dkrz node statistics\n",
    "    - Comparison of basic performance: bar plot\n",
    "    - Comparison of advance performance: regression\n",
    "4. Seaborn-like interactive visualization with Plot.ly\n",
    "\n",
    "\n",
    "## 1. What is seaborn\n",
    "+ Seaborn is Python data visualization open source library https://seaborn.pydata.org/\n",
    "+ Seaborn is based on Matplotlib, the basis for static plotting in Python. Matplotlib is able to plot anything https://matplotlib.org/3.1.0/api/_as_gen/matplotlib.pyplot.figure.html, it makes simple and quick basic plots (bar plots, histograms, scatter plots,...) but it can be very verbose and complex to implement for more complex plots (regressions, heat maps,...) \n",
    "+ **Seaborn is a group of predefined functions that simplify advance visualization** (scatter + regression + confidence intervales, combined plots,..)\n",
    "+ Seaborn users can integrate Matplotlib functions to further customize the Seaborn functions but there are trade-offs (see below)\n",
    "+ Seaborn is well-known in the community: popular in data science courses and youtube tutorials since 2015\n",
    "+ Seaborn was created by Michael Waskom, a postdoc in neuroscience at the New York University https://www.cns.nyu.edu/~mwaskom/. He is also the official maintainer https://pypi.org/project/seaborn/ and he solves questions in stackoverflow.com. He also contributed to other open source software development\n",
    "https://github.com/mwaskom.\n",
    "\n",
    "## 2. User experience\n",
    "User experience in Ubuntu 18 on-prem (Lenovo ThinkPad X1 Carbon)\n",
    "+ Installation: uncomplicated via 'conda install seaborn' (I installed the version 0.9.0 realeased on Jul 16, 2018)\n",
    "+ Dependencies: very popular packages: numpy, scipy, matplotlib, and pandas\n",
    "+ Hands-on: easy http://seaborn.pydata.org/tutorial.html\n",
    "+ Performance (see examples below):  \n",
    "\n",
    "    - nice gallery of templates (although reduced with respect to the matplotlib gallery) \n",
    "    - nice documentation\n",
    "    - basic plots are similar to raw matplotlib basic plots\n",
    "    - easy to use predefined very aestethic advance plots\n",
    "\n",
    "+ Trade-offs: using seaborn would make further customizations a bit complicated and less documentation is available compared to matplotlib; debugging limitations due to untraceable calls behind the scenes.\n",
    "\n",
    "+ Conclusion: it is nice to use the Seaborn predefined plots as long as one does not try to modify them, otherwise there are drawbacks.\n",
    "\n",
    "\n",
    "## 3. Test case: visualization of the esgf1_dkrz node statistics \n",
    "Data downloaded from the ESGF Dashboard on the 11.06.2019\n",
    "http://esgf-ui.cmcc.it:8080/esgf-dashboard-ui/pages/cross-project.html"
   ]
  },
  {
   "cell_type": "code",
   "execution_count": 2,
   "metadata": {
    "scrolled": true
   },
   "outputs": [
    {
     "data": {
      "text/html": [
       "<div>\n",
       "<style scoped>\n",
       "    .dataframe tbody tr th:only-of-type {\n",
       "        vertical-align: middle;\n",
       "    }\n",
       "\n",
       "    .dataframe tbody tr th {\n",
       "        vertical-align: top;\n",
       "    }\n",
       "\n",
       "    .dataframe thead th {\n",
       "        text-align: right;\n",
       "    }\n",
       "</style>\n",
       "<table border=\"1\" class=\"dataframe\">\n",
       "  <thead>\n",
       "    <tr style=\"text-align: right;\">\n",
       "      <th></th>\n",
       "      <th>number_of_downloads</th>\n",
       "      <th>number_of_successful_downloads</th>\n",
       "      <th>number_of_replica_downloads</th>\n",
       "      <th>total_size_(GB)</th>\n",
       "      <th>month</th>\n",
       "      <th>year</th>\n",
       "    </tr>\n",
       "  </thead>\n",
       "  <tbody>\n",
       "    <tr>\n",
       "      <th>1</th>\n",
       "      <td>52551</td>\n",
       "      <td>45219</td>\n",
       "      <td>0</td>\n",
       "      <td>18778.659152</td>\n",
       "      <td>4</td>\n",
       "      <td>2017</td>\n",
       "    </tr>\n",
       "    <tr>\n",
       "      <th>2</th>\n",
       "      <td>68318</td>\n",
       "      <td>41648</td>\n",
       "      <td>0</td>\n",
       "      <td>26671.655071</td>\n",
       "      <td>5</td>\n",
       "      <td>2017</td>\n",
       "    </tr>\n",
       "    <tr>\n",
       "      <th>3</th>\n",
       "      <td>74513</td>\n",
       "      <td>41492</td>\n",
       "      <td>0</td>\n",
       "      <td>30772.041449</td>\n",
       "      <td>6</td>\n",
       "      <td>2017</td>\n",
       "    </tr>\n",
       "    <tr>\n",
       "      <th>4</th>\n",
       "      <td>62612</td>\n",
       "      <td>53173</td>\n",
       "      <td>0</td>\n",
       "      <td>19672.516698</td>\n",
       "      <td>7</td>\n",
       "      <td>2017</td>\n",
       "    </tr>\n",
       "    <tr>\n",
       "      <th>5</th>\n",
       "      <td>114200</td>\n",
       "      <td>54636</td>\n",
       "      <td>0</td>\n",
       "      <td>38364.431474</td>\n",
       "      <td>8</td>\n",
       "      <td>2017</td>\n",
       "    </tr>\n",
       "  </tbody>\n",
       "</table>\n",
       "</div>"
      ],
      "text/plain": [
       "   number_of_downloads  number_of_successful_downloads  \\\n",
       "1                52551                           45219   \n",
       "2                68318                           41648   \n",
       "3                74513                           41492   \n",
       "4                62612                           53173   \n",
       "5               114200                           54636   \n",
       "\n",
       "   number_of_replica_downloads  total_size_(GB)  month  year  \n",
       "1                            0     18778.659152      4  2017  \n",
       "2                            0     26671.655071      5  2017  \n",
       "3                            0     30772.041449      6  2017  \n",
       "4                            0     19672.516698      7  2017  \n",
       "5                            0     38364.431474      8  2017  "
      ]
     },
     "execution_count": 2,
     "metadata": {},
     "output_type": "execute_result"
    }
   ],
   "source": [
    "import pandas as pd\n",
    "import numpy as np\n",
    "import matplotlib.pyplot as plt\n",
    "import matplotlib.patches as mpatches # just to solve a legend issue\n",
    "import seaborn as sns\n",
    "\n",
    "# to render the figures in the notebook\n",
    "%matplotlib inline \n",
    "\n",
    "# data load\n",
    "filename = '/home/moreno/Desktop/Movidas/IS-ENES/KPIs/dashboard/11_06_2019_esgf1_dkrz_downloads_by_time.csv' \n",
    "esgf1_dkrz = pd.read_csv(filename)\n",
    "\n",
    "# data wrangling\n",
    "esgf1_dkrz.index = pd.Series([10,11,1,2,3,4,5,6,7,8,9]) \n",
    "esgf1_dkrz = esgf1_dkrz.sort_index() # to sort the data by time\n",
    "\n",
    "esgf1_dkrz.head()"
   ]
  },
  {
   "cell_type": "code",
   "execution_count": 4,
   "metadata": {},
   "outputs": [],
   "source": [
    "# to shorten the variables name\n",
    "downloads            = esgf1_dkrz.number_of_downloads\n",
    "successful_downloads = esgf1_dkrz.number_of_successful_downloads\n",
    "total_size           = esgf1_dkrz['total_size_(GB)'] \n",
    "index                = esgf1_dkrz.index"
   ]
  },
  {
   "cell_type": "markdown",
   "metadata": {},
   "source": [
    "### Comparison of basic performance: bar plots"
   ]
  },
  {
   "cell_type": "code",
   "execution_count": 5,
   "metadata": {},
   "outputs": [
    {
     "data": {
      "text/plain": [
       "<matplotlib.legend.Legend at 0x7feaf01a52b0>"
      ]
     },
     "execution_count": 5,
     "metadata": {},
     "output_type": "execute_result"
    },
    {
     "data": {
      "image/png": "[encoded data removed]",
      "text/plain": [
       "<Figure size 1080x288 with 2 Axes>"
      ]
     },
     "metadata": {},
     "output_type": "display_data"
    }
   ],
   "source": [
    "# visualization settings \n",
    "sns.set() # default aestetic for the color palette, background,..\n",
    "plt.rcParams[\"figure.figsize\"] = (15, 4) # (w, h)\n",
    "plt.subplots_adjust(wspace = 0.25)\n",
    "\n",
    "# RAW MATPLOTLIB\n",
    "plt.subplot(121)\n",
    "plt.bar(index,downloads,color = 'r', label = 'number of downloads') \n",
    "plt.bar(index,successful_downloads,color = 'g', label = 'number of successful downloads')  \n",
    "plt.xlabel('dashboard month')\n",
    "plt.title('RAW MATPLOTLIB')\n",
    "plt.legend()\n",
    "\n",
    "# SEABORN\n",
    "plt.subplot(122)\n",
    "sns.barplot(np.array(index), np.array(downloads), data = esgf1_dkrz, color = 'r')\n",
    "sns.barplot(np.array(index), np.array(successful_downloads), data = esgf1_dkrz, color = 'g')\n",
    "plt.xlabel('dashboard month')\n",
    "plt.title('SEABORN')\n",
    "\n",
    "# seaborn legend issues\n",
    "red_patch = mpatches.Patch(color='brown', label='number of downloads')\n",
    "green_patch = mpatches.Patch(color='green', label='number of successful downloads')\n",
    "plt.legend(handles=[red_patch,green_patch])"
   ]
  },
  {
   "cell_type": "markdown",
   "metadata": {},
   "source": [
    "Both plots look pretty much the same. I just could not figure out how to add the legend of two bar plots in Seaborn so I created a patch."
   ]
  },
  {
   "cell_type": "markdown",
   "metadata": {},
   "source": [
    "### Comparison of advance performance: regression"
   ]
  },
  {
   "cell_type": "code",
   "execution_count": 7,
   "metadata": {},
   "outputs": [
    {
     "data": {
      "text/plain": [
       "<matplotlib.axes._subplots.AxesSubplot at 0x7feaef412080>"
      ]
     },
     "execution_count": 7,
     "metadata": {},
     "output_type": "execute_result"
    },
    {
     "data": {
      "image/png": "[encoded data removed]",
      "text/plain": [
       "<Figure size 1080x216 with 2 Axes>"
      ]
     },
     "metadata": {},
     "output_type": "display_data"
    }
   ],
   "source": [
    "# visualization settings\n",
    "plt.rcParams[\"figure.figsize\"] = (15, 3) # (w, h)\n",
    "plt.subplots_adjust(wspace = 0.25)\n",
    "    \n",
    "# RAW MATPLOTLIB\n",
    "plt.subplot(121)\n",
    "plt.title('RAW MATPLOTLIB')\n",
    "plt.xlabel('dashboard month')\n",
    "plt.plot(index,total_size)\n",
    "plt.scatter(index,total_size)\n",
    "\n",
    "# SEABORN\n",
    "plt.subplot(122)\n",
    "plt.title('SEABORN')\n",
    "plt.xlabel('dashboard month')\n",
    "sns.lineplot(index,total_size)\n",
    "sns.regplot(np.array(index), y = \"total_size_(GB)\", data = esgf1_dkrz) "
   ]
  },
  {
   "cell_type": "markdown",
   "metadata": {},
   "source": [
    "**PROS**: seaborn is clever with not sorted index (check it by commenting the sorting line in the data wrangling part at the beginning of the code) and automatically adds the y label, the scatter, the regression, and the confidence interval.\n",
    "\n",
    "**CONS**: deprecated untreaceble issues with seaborn lineplot (a warning appears when this cell is run for first time)."
   ]
  },
  {
   "cell_type": "markdown",
   "metadata": {},
   "source": [
    "### Advance: combine plots"
   ]
  },
  {
   "cell_type": "code",
   "execution_count": 8,
   "metadata": {},
   "outputs": [
    {
     "data": {
      "text/plain": [
       "<seaborn.axisgrid.JointGrid at 0x7feaef321208>"
      ]
     },
     "execution_count": 8,
     "metadata": {},
     "output_type": "execute_result"
    },
    {
     "data": {
      "image/png": "[encoded data removed]",
      "text/plain": [
       "<Figure size 576x576 with 3 Axes>"
      ]
     },
     "metadata": {},
     "output_type": "display_data"
    }
   ],
   "source": [
    "sns.jointplot(x = \"total_size_(GB)\", y = \"number_of_downloads\", data = esgf1_dkrz, kind=\"reg\",\n",
    "                  xlim=(10000, 45000), ylim=(30000, 140000), color=\"g\", height = 8)"
   ]
  },
  {
   "cell_type": "markdown",
   "metadata": {},
   "source": [
    "**PROS**: it would take a while to figure it out how to create these combined plot in raw matplotlib; it also automatically adds the y labels, the scatter, the regression, the confidence interval and the probability density functions calculated as kernel density estimate.\n",
    "\n",
    "**CONS**: I could not add the next plot to the right of this one, problems with the plot combination, probably related to the figure-level vs axes-level functions seaborn feature."
   ]
  },
  {
   "cell_type": "markdown",
   "metadata": {},
   "source": [
    "## 4. Seaborn-like interactive visualization in Plotly\n",
    "\n",
    "Plot.ly is an open source Python library comprising a JSON-based plot tool for interactive visualization to create interactive plots (also in .html) for dahboards and web applications (also querying databases). One can build Flask applications to deploy Plot.ly by using Dash framework (not shown here)."
   ]
  },
  {
   "cell_type": "code",
   "execution_count": 9,
   "metadata": {},
   "outputs": [
    {
     "data": {
      "text/html": [
       "        <script type=\"text/javascript\">\n",
       "        window.PlotlyConfig = {MathJaxConfig: 'local'};\n",
       "        if (window.MathJax) {MathJax.Hub.Config({SVG: {font: \"STIX-Web\"}});}\n",
       "        if (typeof require !== 'undefined') {\n",
       "        require.undef(\"plotly\");\n",
       "        requirejs.config({\n",
       "            paths: {\n",
       "                'plotly': ['https://cdn.plot.ly/plotly-latest.min']\n",
       "            }\n",
       "        });\n",
       "        require(['plotly'], function(Plotly) {\n",
       "            window._Plotly = Plotly;\n",
       "        });\n",
       "        }\n",
       "        </script>\n",
       "        "
      ]
     },
     "metadata": {},
     "output_type": "display_data"
    },
    {
     "data": {
      "application/vnd.plotly.v1+json": {
       "config": {
        "linkText": "Export to plot.ly",
        "plotlyServerURL": "https://plot.ly",
        "responsive": true,
        "showLink": false
       },
       "data": [
        {
         "line": {
          "color": "#3FA65F"
         },
         "name": "Number of downloads",
         "type": "scatter",
         "uid": "d716f8cc-6b81-49a6-9527-c3e29007bab4",
         "x": [
          1,
          2,
          3,
          4,
          5,
          6,
          7,
          8,
          9,
          10,
          11
         ],
         "y": [
          52551,
          68318,
          74513,
          62612,
          114200,
          60167,
          69090,
          96053,
          141905,
          58217,
          78680
         ]
        }
       ],
       "layout": {
        "title": {
         "text": "ESGF DKRZ NODE 1"
        },
        "updatemenus": [
         {
          "buttons": [
           {
            "args": [
             {
              "y": [
               [
                52551,
                68318,
                74513,
                62612,
                114200,
                60167,
                69090,
                96053,
                141905,
                58217,
                78680
               ]
              ]
             },
             {
              "title": "Number of downloads"
             }
            ],
            "label": "Number of downloads",
            "method": "update"
           },
           {
            "args": [
             {
              "y": [
               [
                45219,
                41648,
                41492,
                53173,
                54636,
                40441,
                41972,
                54236,
                130826,
                44249,
                77968
               ]
              ]
             },
             {
              "title": "Number of successful downloads"
             }
            ],
            "label": "Number of successful downloads",
            "method": "update"
           },
           {
            "args": [
             {
              "y": [
               [
                18778.6591521129,
                26671.655070535802,
                30772.0414490662,
                19672.516697865,
                38364.4314736389,
                22303.014967001,
                23411.6485190727,
                35037.6378702857,
                31158.1631519757,
                20358.696118786,
                23929.586069434903
               ]
              ]
             },
             {
              "title": "Total size (GB)"
             }
            ],
            "label": "Total size (GB)",
            "method": "update"
           }
          ],
          "direction": "down",
          "pad": {
           "r": 10,
           "t": 10
          },
          "showactive": true,
          "xanchor": "left",
          "yanchor": "top"
         }
        ],
        "xaxis": {
         "title": {
          "text": "dashboard month"
         }
        }
       }
      },
      "text/html": [
       "<div>\n",
       "        \n",
       "        \n",
       "            <div id=\"567f2219-5636-44b9-bfd6-71062b16fe84\" class=\"plotly-graph-div\" style=\"height:525px; width:100%;\"></div>\n",
       "            <script type=\"text/javascript\">\n",
       "                require([\"plotly\"], function(Plotly) {\n",
       "                    window.PLOTLYENV=window.PLOTLYENV || {};\n",
       "                    window.PLOTLYENV.BASE_URL='https://plot.ly';\n",
       "                    \n",
       "                if (document.getElementById(\"567f2219-5636-44b9-bfd6-71062b16fe84\")) {\n",
       "                    Plotly.newPlot(\n",
       "                        '567f2219-5636-44b9-bfd6-71062b16fe84',\n",
       "                        [{\"line\": {\"color\": \"#3FA65F\"}, \"name\": \"Number of downloads\", \"type\": \"scatter\", \"uid\": \"12bf1143-2e2c-408c-b3fd-30d697da5707\", \"x\": [1, 2, 3, 4, 5, 6, 7, 8, 9, 10, 11], \"y\": [52551, 68318, 74513, 62612, 114200, 60167, 69090, 96053, 141905, 58217, 78680]}],\n",
       "                        {\"title\": {\"text\": \"ESGF DKRZ NODE 1\"}, \"updatemenus\": [{\"buttons\": [{\"args\": [{\"y\": [[52551, 68318, 74513, 62612, 114200, 60167, 69090, 96053, 141905, 58217, 78680]]}, {\"title\": \"Number of downloads\"}], \"label\": \"Number of downloads\", \"method\": \"update\"}, {\"args\": [{\"y\": [[45219, 41648, 41492, 53173, 54636, 40441, 41972, 54236, 130826, 44249, 77968]]}, {\"title\": \"Number of successful downloads\"}], \"label\": \"Number of successful downloads\", \"method\": \"update\"}, {\"args\": [{\"y\": [[18778.6591521129, 26671.655070535802, 30772.0414490662, 19672.516697865, 38364.4314736389, 22303.014967001, 23411.6485190727, 35037.6378702857, 31158.1631519757, 20358.696118786, 23929.586069434903]]}, {\"title\": \"Total size (GB)\"}], \"label\": \"Total size (GB)\", \"method\": \"update\"}], \"direction\": \"down\", \"pad\": {\"r\": 10, \"t\": 10}, \"showactive\": true, \"xanchor\": \"left\", \"yanchor\": \"top\"}], \"xaxis\": {\"title\": {\"text\": \"dashboard month\"}}},\n",
       "                        {\"showLink\": false, \"linkText\": \"Export to plot.ly\", \"plotlyServerURL\": \"https://plot.ly\", \"responsive\": true}\n",
       "                    ).then(function(){\n",
       "                            \n",
       "var gd = document.getElementById('567f2219-5636-44b9-bfd6-71062b16fe84');\n",
       "var x = new MutationObserver(function (mutations, observer) {{\n",
       "        var display = window.getComputedStyle(gd).display;\n",
       "        if (!display || display === 'none') {{\n",
       "            console.log([gd, 'removed!']);\n",
       "            Plotly.purge(gd);\n",
       "            observer.disconnect();\n",
       "        }}\n",
       "}});\n",
       "\n",
       "// Listen for the removal of the full notebook cells\n",
       "var notebookContainer = gd.closest('#notebook-container');\n",
       "if (notebookContainer) {{\n",
       "    x.observe(notebookContainer, {childList: true});\n",
       "}}\n",
       "\n",
       "// Listen for the clearing of the current output cell\n",
       "var outputEl = gd.closest('.output');\n",
       "if (outputEl) {{\n",
       "    x.observe(outputEl, {childList: true});\n",
       "}}\n",
       "\n",
       "                        })\n",
       "                };\n",
       "                });\n",
       "            </script>\n",
       "        </div>"
      ]
     },
     "metadata": {},
     "output_type": "display_data"
    }
   ],
   "source": [
    "from plotly.offline import download_plotlyjs, init_notebook_mode, plot, iplot\n",
    "import plotly.plotly as py\n",
    "import plotly.graph_objs as go \n",
    "import plotly\n",
    "\n",
    "# to plot offline (no account request) and save locally\n",
    "plotly.offline.init_notebook_mode(connected=True)\n",
    "\n",
    "def slider(esgf1_dkrz, title):\n",
    "\n",
    "    trace_number_of_downloads = go.Scatter(x=list(esgf1_dkrz.index),\n",
    "                            y=list(esgf1_dkrz.number_of_downloads),\n",
    "                            name='Number of downloads',\n",
    "                            line=dict(color='#3FA65F'))\n",
    "  \n",
    "    trace_number_of_successful_downloads = go.Scatter(x=list(esgf1_dkrz.index),\n",
    "                            y=list(esgf1_dkrz.number_of_successful_downloads),\n",
    "                            name='Number of successful downloads',\n",
    "                            line=dict(color='#F06A6A'))\n",
    "    \n",
    "    trace_total_size = go.Scatter(x=list(esgf1_dkrz.index),\n",
    "                            y=list(esgf1_dkrz['total_size_(GB)']),\n",
    "                            name='Total size (GB)',\n",
    "                            line=dict(color='#3FA65F'))\n",
    "    \n",
    "    # problem selecting both from beginning\n",
    "    data = [trace_number_of_downloads]\n",
    "    \n",
    "    # invoke update function get new values of x and y then relayout \n",
    "    updatemenus = list([\n",
    "    dict(\n",
    "        buttons=list([   \n",
    "            dict(label = 'Number of downloads',\n",
    "                 method = 'update',\n",
    "                 args = [{'y': [esgf1_dkrz.number_of_downloads]},\n",
    "                         {'title': 'Number of downloads'}]),\n",
    "           \n",
    "             dict(label = 'Number of successful downloads',\n",
    "                 method = 'update',\n",
    "                 args = [{'y': [esgf1_dkrz.number_of_successful_downloads]},\n",
    "                         {'title': 'Number of successful downloads'}]),\n",
    "            \n",
    "             dict(label = 'Total size (GB)',\n",
    "                 method = 'update',\n",
    "                 args = [{'y': [esgf1_dkrz['total_size_(GB)']]},\n",
    "                         {'title': 'Total size (GB)'}]),\n",
    "        ]),\n",
    "        direction = 'down',\n",
    "        pad = {'r': 10, 't': 10},\n",
    "        showactive = True,\n",
    "        xanchor = 'left',\n",
    "        yanchor = 'top'\n",
    "    )\n",
    "])  \n",
    "    \n",
    "    layout = dict(updatemenus=updatemenus,\n",
    "                  title=title,\n",
    "                  xaxis = {'title': 'dashboard month'}\n",
    "              )\n",
    "\n",
    "    fig = dict(data=data, layout=layout)\n",
    "    return fig\n",
    "\n",
    "fig = slider(esgf1_dkrz, 'ESGF DKRZ NODE 1')\n",
    "plotly.offline.iplot(fig)"
   ]
  },
  {
   "cell_type": "markdown",
   "metadata": {},
   "source": [
    "The following is an example of a **Seaborn-like** interactive plot."
   ]
  },
  {
   "cell_type": "code",
   "execution_count": 10,
   "metadata": {},
   "outputs": [
    {
     "data": {
      "text/html": [
       "        <script type=\"text/javascript\">\n",
       "        window.PlotlyConfig = {MathJaxConfig: 'local'};\n",
       "        if (window.MathJax) {MathJax.Hub.Config({SVG: {font: \"STIX-Web\"}});}\n",
       "        if (typeof require !== 'undefined') {\n",
       "        require.undef(\"plotly\");\n",
       "        requirejs.config({\n",
       "            paths: {\n",
       "                'plotly': ['https://cdn.plot.ly/plotly-latest.min']\n",
       "            }\n",
       "        });\n",
       "        require(['plotly'], function(Plotly) {\n",
       "            window._Plotly = Plotly;\n",
       "        });\n",
       "        }\n",
       "        </script>\n",
       "        "
      ]
     },
     "metadata": {},
     "output_type": "display_data"
    },
    {
     "data": {
      "application/vnd.plotly.v1+json": {
       "config": {
        "linkText": "Export to plot.ly",
        "plotlyServerURL": "https://plot.ly",
        "responsive": true,
        "showLink": false
       },
       "data": [
        {
         "marker": {
          "color": "rgb(0, 0, 128)",
          "opacity": 0.4,
          "size": 8
         },
         "mode": "markers",
         "name": "points",
         "type": "scatter",
         "uid": "39185172-044c-40d9-be57-13bd5157b5dc",
         "x": [
          18778.6591521129,
          26671.655070535802,
          30772.0414490662,
          19672.516697865,
          38364.4314736389,
          22303.014967001,
          23411.6485190727,
          35037.6378702857,
          31158.1631519757,
          20358.696118786,
          23929.586069434903
         ],
         "y": [
          45219,
          41648,
          41492,
          53173,
          54636,
          40441,
          41972,
          54236,
          130826,
          44249,
          77968
         ]
        },
        {
         "colorscale": [
          [
           0,
           "rgb(0, 0, 130)"
          ],
          [
           1,
           "rgb(255, 255, 255)"
          ]
         ],
         "name": "density",
         "ncontours": 20,
         "reversescale": true,
         "showscale": false,
         "type": "histogram2dcontour",
         "uid": "1b84559b-e9a2-47e8-bac9-10c41184211b",
         "x": [
          18778.6591521129,
          26671.655070535802,
          30772.0414490662,
          19672.516697865,
          38364.4314736389,
          22303.014967001,
          23411.6485190727,
          35037.6378702857,
          31158.1631519757,
          20358.696118786,
          23929.586069434903
         ],
         "y": [
          45219,
          41648,
          41492,
          53173,
          54636,
          40441,
          41972,
          54236,
          130826,
          44249,
          77968
         ]
        },
        {
         "marker": {
          "color": "rgb(0, 0, 128)"
         },
         "name": "x density",
         "type": "histogram",
         "uid": "6f483065-95c3-4f1d-8be3-13785da228b3",
         "x": [
          18778.6591521129,
          26671.655070535802,
          30772.0414490662,
          19672.516697865,
          38364.4314736389,
          22303.014967001,
          23411.6485190727,
          35037.6378702857,
          31158.1631519757,
          20358.696118786,
          23929.586069434903
         ],
         "yaxis": "y2"
        },
        {
         "marker": {
          "color": "rgb(0, 0, 128)"
         },
         "name": "y density",
         "type": "histogram",
         "uid": "793de4f7-7673-4734-b9c8-8d7b54169358",
         "xaxis": "x2",
         "y": [
          45219,
          41648,
          41492,
          53173,
          54636,
          40441,
          41972,
          54236,
          130826,
          44249,
          77968
         ]
        }
       ],
       "layout": {
        "autosize": false,
        "bargap": 0,
        "height": 600,
        "hovermode": "closest",
        "margin": {
         "t": 50
        },
        "showlegend": false,
        "title": {
         "text": "ESGF NODE 1 DKRZ"
        },
        "width": 600,
        "xaxis": {
         "domain": [
          0,
          0.85
         ],
         "showgrid": false,
         "zeroline": false
        },
        "xaxis2": {
         "domain": [
          0.85,
          1
         ],
         "showgrid": false,
         "zeroline": false
        },
        "yaxis": {
         "domain": [
          0,
          0.85
         ],
         "showgrid": false,
         "zeroline": false
        },
        "yaxis2": {
         "domain": [
          0.85,
          1
         ],
         "showgrid": false,
         "zeroline": false
        }
       }
      },
      "text/html": [
       "<div>\n",
       "        \n",
       "        \n",
       "            <div id=\"1158a294-65c6-40f3-b4ae-fc5c099072b3\" class=\"plotly-graph-div\" style=\"height:600px; width:600px;\"></div>\n",
       "            <script type=\"text/javascript\">\n",
       "                require([\"plotly\"], function(Plotly) {\n",
       "                    window.PLOTLYENV=window.PLOTLYENV || {};\n",
       "                    window.PLOTLYENV.BASE_URL='https://plot.ly';\n",
       "                    \n",
       "                if (document.getElementById(\"1158a294-65c6-40f3-b4ae-fc5c099072b3\")) {\n",
       "                    Plotly.newPlot(\n",
       "                        '1158a294-65c6-40f3-b4ae-fc5c099072b3',\n",
       "                        [{\"marker\": {\"color\": \"rgb(0, 0, 128)\", \"opacity\": 0.4, \"size\": 8}, \"mode\": \"markers\", \"name\": \"points\", \"type\": \"scatter\", \"uid\": \"df5557c6-2c3f-4fbf-8cbd-b9267fc3ed9f\", \"x\": [18778.6591521129, 26671.655070535802, 30772.0414490662, 19672.516697865, 38364.4314736389, 22303.014967001, 23411.6485190727, 35037.6378702857, 31158.1631519757, 20358.696118786, 23929.586069434903], \"y\": [45219, 41648, 41492, 53173, 54636, 40441, 41972, 54236, 130826, 44249, 77968]}, {\"colorscale\": [[0.0, \"rgb(0, 0, 130)\"], [1.0, \"rgb(255, 255, 255)\"]], \"name\": \"density\", \"ncontours\": 20, \"reversescale\": true, \"showscale\": false, \"type\": \"histogram2dcontour\", \"uid\": \"3254c23c-5ef9-434c-86fd-ae87c5cd7d5a\", \"x\": [18778.6591521129, 26671.655070535802, 30772.0414490662, 19672.516697865, 38364.4314736389, 22303.014967001, 23411.6485190727, 35037.6378702857, 31158.1631519757, 20358.696118786, 23929.586069434903], \"y\": [45219, 41648, 41492, 53173, 54636, 40441, 41972, 54236, 130826, 44249, 77968]}, {\"marker\": {\"color\": \"rgb(0, 0, 128)\"}, \"name\": \"x density\", \"type\": \"histogram\", \"uid\": \"75e67cd4-24c2-4a2d-beae-6dcf76e5a14b\", \"x\": [18778.6591521129, 26671.655070535802, 30772.0414490662, 19672.516697865, 38364.4314736389, 22303.014967001, 23411.6485190727, 35037.6378702857, 31158.1631519757, 20358.696118786, 23929.586069434903], \"yaxis\": \"y2\"}, {\"marker\": {\"color\": \"rgb(0, 0, 128)\"}, \"name\": \"y density\", \"type\": \"histogram\", \"uid\": \"18e32328-e20f-4bac-95bb-e4c4c83f2de1\", \"xaxis\": \"x2\", \"y\": [45219, 41648, 41492, 53173, 54636, 40441, 41972, 54236, 130826, 44249, 77968]}],\n",
       "                        {\"autosize\": false, \"bargap\": 0, \"height\": 600, \"hovermode\": \"closest\", \"margin\": {\"t\": 50}, \"showlegend\": false, \"title\": {\"text\": \"ESGF NODE 1 DKRZ\"}, \"width\": 600, \"xaxis\": {\"domain\": [0, 0.85], \"showgrid\": false, \"zeroline\": false}, \"xaxis2\": {\"domain\": [0.85, 1], \"showgrid\": false, \"zeroline\": false}, \"yaxis\": {\"domain\": [0, 0.85], \"showgrid\": false, \"zeroline\": false}, \"yaxis2\": {\"domain\": [0.85, 1], \"showgrid\": false, \"zeroline\": false}},\n",
       "                        {\"showLink\": false, \"linkText\": \"Export to plot.ly\", \"plotlyServerURL\": \"https://plot.ly\", \"responsive\": true}\n",
       "                    ).then(function(){\n",
       "                            \n",
       "var gd = document.getElementById('1158a294-65c6-40f3-b4ae-fc5c099072b3');\n",
       "var x = new MutationObserver(function (mutations, observer) {{\n",
       "        var display = window.getComputedStyle(gd).display;\n",
       "        if (!display || display === 'none') {{\n",
       "            console.log([gd, 'removed!']);\n",
       "            Plotly.purge(gd);\n",
       "            observer.disconnect();\n",
       "        }}\n",
       "}});\n",
       "\n",
       "// Listen for the removal of the full notebook cells\n",
       "var notebookContainer = gd.closest('#notebook-container');\n",
       "if (notebookContainer) {{\n",
       "    x.observe(notebookContainer, {childList: true});\n",
       "}}\n",
       "\n",
       "// Listen for the clearing of the current output cell\n",
       "var outputEl = gd.closest('.output');\n",
       "if (outputEl) {{\n",
       "    x.observe(outputEl, {childList: true});\n",
       "}}\n",
       "\n",
       "                        })\n",
       "                };\n",
       "                });\n",
       "            </script>\n",
       "        </div>"
      ]
     },
     "metadata": {},
     "output_type": "display_data"
    }
   ],
   "source": [
    "import plotly.figure_factory as ff\n",
    "\n",
    "# to plot offline (no account request) and save locally\n",
    "plotly.offline.init_notebook_mode(connected = True)\n",
    "\n",
    "# figure\n",
    "fig = ff.create_2d_density(total_size, successful_downloads, point_size = 8, title = 'ESGF NODE 1 DKRZ')\n",
    "\n",
    "plotly.offline.iplot(fig)"
   ]
  },
  {
   "cell_type": "markdown",
   "metadata": {},
   "source": [
    "This example shows the relevance of Seaborn in the community since Plot.ly has documentation about how to resamble Seaborn features (find more here https://plot.ly/python/statistical-charts/)."
   ]
  },
  {
   "cell_type": "code",
   "execution_count": null,
   "metadata": {},
   "outputs": [],
   "source": []
  }
 ],
 "metadata": {
  "kernelspec": {
   "display_name": "Python 3",
   "language": "python",
   "name": "python3"
  },
  "language_info": {
   "codemirror_mode": {
    "name": "ipython",
    "version": 3
   },
   "file_extension": ".py",
   "mimetype": "text/x-python",
   "name": "python",
   "nbconvert_exporter": "python",
   "pygments_lexer": "ipython3",
   "version": "3.7.1"
  }
 },
 "nbformat": 4,
 "nbformat_minor": 2
}
